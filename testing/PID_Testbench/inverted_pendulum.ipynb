
# Inverted pendulum with a *fan at the bob* + PID control (HTML animation)
# -------------------------------------------------------------
# - θ measured from upright (θ=0 is perfectly inverted).
# - Gravity acts to destabilize:  θ¨ = (g/L) * sin(θ) + τ / (m L^2)
# - The "fan" at the bob applies *tangential* torque τ = u * τ_max,  u ∈ [-1, 1].
# - PID computes u each frame to keep θ ≈ 0.
#
# You can switch control to 'manual' and set 'manual_u' in [-1, 1] to see effects.
#
# Implementation notes:
# - Online integration during animation using RK4.
# - Separate functions for dynamics, RK4 step, fan torque, and PID.
# - Short animation duration to keep HTML size small.
#
# Tweak Kp, Ki, Kd below if you want snappier/slower control.

import numpy as np
import matplotlib.pyplot as plt
from matplotlib.animation import FuncAnimation
from IPython.display import HTML, display

# ----------------------
# Physical parameters
# ----------------------
g = 9.81     # m/s^2
L = 1.0      # m
m = 1.0      # kg
I = m * L**2 # moment of inertia for a point mass at distance L
b = 0.05     # viscous damping (N·m·s/rad), small to smooth motion

tau_max = 2.0  # N·m (fan torque limit). Effective accel from full fan: tau_max/I rad/s^2

# ----------------------
# Simulation parameters
# ----------------------
theta0_deg = 2.0
omega0 = 0.0

dt = 0.02           # integration timestep (s)
steps_per_frame = 2 # substeps per animation frame for stability
frame_dt = dt * steps_per_frame
total_time = 8.0    # seconds
N_frames = int(total_time / frame_dt)

# ----------------------
# Control selection
# ----------------------
control_mode = 'pid'   # 'pid' or 'manual'
manual_u = -0.99         # used when control_mode = 'manual'; range [-1, 1]

# ----------------------
# PID controller params
# ----------------------
Kp = 12.0
Ki = 4.0
Kd = 3.0
integral_limit = 2.0   # anti-windup clamp on integral term
u_limit = 1.0          # |u| ≤ 1

# ----------------------
# Core functions
# ----------------------
def fan_tau(u):
    """Torque from fan given command u ∈ [-1, 1]."""
    u = np.clip(u, -u_limit, u_limit)
    return u * tau_max

def dynamics(theta, omega, u):
    """Return θdot, ωdot for current state and control u (tangential torque at bob)."""
    tau = fan_tau(u)
    theta_dot = omega
    omega_dot = (g / L) * np.sin(theta) + (tau - b*omega) / I
    return theta_dot, omega_dot

def rk4_step(theta, omega, u, h):
    """One RK4 step with constant u over the small step h."""
    k1_t, k1_w = dynamics(theta, omega, u)
    k2_t, k2_w = dynamics(theta + 0.5*h*k1_t, omega + 0.5*h*k1_w, u)
    k3_t, k3_w = dynamics(theta + 0.5*h*k2_t, omega + 0.5*h*k2_w, u)
    k4_t, k4_w = dynamics(theta + h*k3_t,     omega + h*k3_w,     u)
    theta_next = theta + (h/6.0)*(k1_t + 2*k2_t + 2*k3_t + k4_t)
    omega_next = omega + (h/6.0)*(k1_w + 2*k2_w + 2*k3_w + k4_w)
    return theta_next, omega_next

########## EDIT THIS PART #################
class PID:
    def __init__(self, Kp, Ki, Kd, integral_limit):
        self.Kp = Kp; self.Ki = Ki; self.Kd = Kd
        self.integral = 0.0
        self.prev_error = 0.0
        self.integral_limit = integral_limit
        self.initialized = False

    def step(self, error, dt):
        if not self.initialized:
            self.prev_error = error
            self.initialized = True
        # trapezoidal integral
        self.integral += 0.5*(error + self.prev_error)*dt
        # anti-windup
        self.integral = np.clip(self.integral, -self.integral_limit, self.integral_limit)
        derivative = (error - self.prev_error)/dt
        self.prev_error = error
        u_unsat = self.Kp*error + self.Ki*self.integral + self.Kd*derivative
        # saturate to [-1,1] by mapping torque to u range
        u = np.clip(u_unsat / tau_max, -1.0, 1.0)
        return u_unsat, u
###########################################################

# ----------------------
# State init
# ----------------------
theta = np.deg2rad(theta0_deg)
omega = omega0
pid = PID(Kp, Ki, Kd, integral_limit)
theta_ref = 0.0  # upright

# ----------------------
# Figure and artists
# ----------------------
fig, ax = plt.subplots(figsize=(6, 6))
ax.set_aspect('equal')
pad = 0.25 * L
ax.set_xlim(-L - pad, L + pad)
ax.set_ylim(-pad, L + L + pad)

# rod & bob
(line,) = ax.plot([], [], lw=3)
(bob,)  = ax.plot([], [], marker='o', ms=10)

# fan thrust arrow (tangential direction at the bob)
fan_arrow = ax.arrow(0, 0, 0, 0, head_width=0.06, head_length=0.12, length_includes_head=True)
# We'll update by removing and re-adding each frame to avoid backend inconsistencies.

time_text  = ax.text(0.02, 0.95, '', transform=ax.transAxes)
angle_text = ax.text(0.02, 0.90, '', transform=ax.transAxes)
u_text     = ax.text(0.02, 0.85, '', transform=ax.transAxes)

title_main = r'Inverted Pendulum with Fan (PID)  $\ddot{\theta}=\frac{g}{L}\sin\theta + \frac{\tau}{mL^2}$'
title_params = (rf'$\theta(0)={theta0_deg:.2f}^\circ,\ g={g:.2f},\ L={L:.2f},\ \tau_{{\max}}={tau_max:.2f}\ \mathrm{{N\,m}}$')
ax.set_title(title_main + '\n' + title_params)

# pivot
ax.plot(0, 0, marker='s', ms=8)

def init():
    global theta, omega, pid
    theta = np.deg2rad(theta0_deg)
    omega = omega0
    pid = PID(Kp, Ki, Kd, integral_limit)
    line.set_data([], [])
    bob.set_data([], [])
    time_text.set_text('')
    angle_text.set_text('')
    u_text.set_text('')
    return line, bob, time_text, angle_text, u_text

def update(frame):
    global theta, omega, fan_arrow

    # Integrate several small steps per frame (control assumed constant within each substep)
    for _ in range(steps_per_frame):
        if control_mode == 'pid':
            error = theta_ref - theta  # keep upright
            u_unsat, u = pid.step(error, dt)
        else:
            u = np.clip(manual_u, -1.0, 1.0)

        theta, omega = rk4_step(theta, omega, u, dt)

    # Draw current geometry
    x = L * np.sin(theta)
    y = L * np.cos(theta)
    line.set_data([0, x], [0, y])
    bob.set_data([x], [y])

    # Update fan arrow (tangential direction: (+) direction is CCW)
    # Tangent unit vector at (x,y) is t_hat = [cos(theta), -sin(theta)] for θ from upright.
    # Scale arrow length by |u|.
    tx, ty = np.cos(theta), -np.sin(theta)
    arrow_scale = 0.35 * np.clip(abs(u), 0.0, 1.0) * L
    # Remove old arrow and add a new one
    try:
        fan_arrow.remove()
    except Exception:
        pass
    fan_arrow = ax.arrow(x, y, arrow_scale*np.sign(u)*tx, arrow_scale*np.sign(u)*ty,
                         head_width=0.06, head_length=0.12, length_includes_head=True)

    # HUD texts
    sim_time = frame * frame_dt
    time_text.set_text(f't = {sim_time:.2f} s')
    angle_text.set_text(r'$\theta$ = {:.2f}°'.format(np.rad2deg(theta)))
    u_text.set_text(f'u (fan) = {u:+.2f}')

    return line, bob, fan_arrow, time_text, angle_text, u_text

anim = FuncAnimation(fig, update, frames=N_frames, init_func=init, interval=1000*frame_dt, blit=False, repeat=False)

html = anim.to_jshtml()
plt.close(fig)
display(HTML(html))
